{
 "cells": [
  {
   "cell_type": "code",
   "execution_count": 3,
   "id": "dcccfcec",
   "metadata": {},
   "outputs": [],
   "source": [
    "import numpy as np \n",
    "import time\n",
    "lst=list(range(1,10000))\n"
   ]
  },
  {
   "cell_type": "code",
   "execution_count": 5,
   "id": "11c247e9",
   "metadata": {},
   "outputs": [
    {
     "name": "stdout",
     "output_type": "stream",
     "text": [
      "Time taken using list:\n",
      "Time taken by Numpy array: [       1        4        9 ... 99940009 99960004 99980001]\n"
     ]
    }
   ],
   "source": [
    "start_time=time.time()\n",
    "squared_list=[x**2 for x in lst]\n",
    "print(\"Time taken using list:\")\n",
    "arr=np.array(lst)\n",
    "start_time=time.time()\n",
    "squared_list=time.time()\n",
    "squared_array=arr**2\n",
    "print(\"Time taken by Numpy array:\",squared_array)\n"
   ]
  }
 ],
 "metadata": {
  "kernelspec": {
   "display_name": "Python 3",
   "language": "python",
   "name": "python3"
  },
  "language_info": {
   "codemirror_mode": {
    "name": "ipython",
    "version": 3
   },
   "file_extension": ".py",
   "mimetype": "text/x-python",
   "name": "python",
   "nbconvert_exporter": "python",
   "pygments_lexer": "ipython3",
   "version": "3.10.11"
  }
 },
 "nbformat": 4,
 "nbformat_minor": 5
}
